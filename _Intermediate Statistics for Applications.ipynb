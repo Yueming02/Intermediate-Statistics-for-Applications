{
 "cells": [
  {
   "cell_type": "markdown",
   "id": "36f70eb1-d3cf-4490-ba72-e11fba7f24c0",
   "metadata": {},
   "source": [
    "# Statistical Hypothesis Testing for Players' Behaviour Data: Non-parametric Tests Examples"
   ]
  },
  {
   "cell_type": "markdown",
   "id": "74b6440a-ac3d-4090-aa02-005a1ee1770e",
   "metadata": {},
   "source": [
    "Utilizing some classic non-parametric tests, I will perform statistical analysis on two simulated datasets of a Computer Game Company (let's call it WSG) to support their strategy based on player behaviour.\n",
    "* Dataset 1: *New feature.csv* records the number of daily active players. WSG implemented a new feature to their game, and we would like to know whether this new feature has attracted more players to stay online!\n",
    "* Dataset 2: *Player hours.csv* records the player online hours. WSG developed a new game and opened the beta to a small number of players. How sticky are players with this game? "
   ]
  },
  {
   "cell_type": "code",
   "execution_count": 53,
   "id": "ed812c0e-8234-4f88-bf88-76bd998a162d",
   "metadata": {},
   "outputs": [],
   "source": [
    "knitr::opts_chunk$set(echo = TRUE)\n",
    "knitr::opts_chunk$set(message = FALSE) \n",
    "knitr::opts_chunk$set(warning = FALSE) "
   ]
  },
  {
   "cell_type": "markdown",
   "id": "d5356730-2efe-4879-9318-a98ffa1ed279",
   "metadata": {},
   "source": [
    "## Permutation Test Applications"
   ]
  },
  {
   "cell_type": "markdown",
   "id": "5ea1da56-fd6a-45dd-af4e-45c6f2ba7547",
   "metadata": {},
   "source": [
    "In *New feature.csv*, two samples of the number of daily active players were taken. One sample of size 19 was taken from the data prior to implementing the new feature, which is shown in the column **Before**. Another sample of size 6 was taken from the data after implementing the new feature, which is shown in the column **After**.\n",
    "\n",
    "Now we're interested in the question: does this new feature improve the number of daily active players? \n",
    "\n",
    "A permutation test may be a good choice given the small and uneven sample sizes."
   ]
  },
  {
   "cell_type": "code",
   "execution_count": 55,
   "id": "a05d9580-91f0-4019-b19c-41bc7ac0874a",
   "metadata": {},
   "outputs": [],
   "source": [
    "library(exactRankTests)"
   ]
  },
  {
   "cell_type": "code",
   "execution_count": 56,
   "id": "be4692fc-36e3-464a-9444-9355f5f0c44a",
   "metadata": {},
   "outputs": [
    {
     "data": {
      "text/html": [
       "<table class=\"dataframe\">\n",
       "<caption>A data.frame: 19 × 2</caption>\n",
       "<thead>\n",
       "\t<tr><th></th><th scope=col>Before</th><th scope=col>After</th></tr>\n",
       "\t<tr><th></th><th scope=col>&lt;int&gt;</th><th scope=col>&lt;int&gt;</th></tr>\n",
       "</thead>\n",
       "<tbody>\n",
       "\t<tr><th scope=row>1</th><td>25</td><td>30</td></tr>\n",
       "\t<tr><th scope=row>2</th><td>33</td><td>38</td></tr>\n",
       "\t<tr><th scope=row>3</th><td>20</td><td>38</td></tr>\n",
       "\t<tr><th scope=row>4</th><td>33</td><td>40</td></tr>\n",
       "\t<tr><th scope=row>5</th><td>28</td><td>45</td></tr>\n",
       "\t<tr><th scope=row>6</th><td>40</td><td>55</td></tr>\n",
       "\t<tr><th scope=row>7</th><td>25</td><td>NA</td></tr>\n",
       "\t<tr><th scope=row>8</th><td>38</td><td>NA</td></tr>\n",
       "\t<tr><th scope=row>9</th><td>20</td><td>NA</td></tr>\n",
       "\t<tr><th scope=row>10</th><td>33</td><td>NA</td></tr>\n",
       "\t<tr><th scope=row>11</th><td>33</td><td>NA</td></tr>\n",
       "\t<tr><th scope=row>12</th><td>25</td><td>NA</td></tr>\n",
       "\t<tr><th scope=row>13</th><td>20</td><td>NA</td></tr>\n",
       "\t<tr><th scope=row>14</th><td>25</td><td>NA</td></tr>\n",
       "\t<tr><th scope=row>15</th><td>20</td><td>NA</td></tr>\n",
       "\t<tr><th scope=row>16</th><td>26</td><td>NA</td></tr>\n",
       "\t<tr><th scope=row>17</th><td>30</td><td>NA</td></tr>\n",
       "\t<tr><th scope=row>18</th><td>33</td><td>NA</td></tr>\n",
       "\t<tr><th scope=row>19</th><td>25</td><td>NA</td></tr>\n",
       "</tbody>\n",
       "</table>\n"
      ],
      "text/latex": [
       "A data.frame: 19 × 2\n",
       "\\begin{tabular}{r|ll}\n",
       "  & Before & After\\\\\n",
       "  & <int> & <int>\\\\\n",
       "\\hline\n",
       "\t1 & 25 & 30\\\\\n",
       "\t2 & 33 & 38\\\\\n",
       "\t3 & 20 & 38\\\\\n",
       "\t4 & 33 & 40\\\\\n",
       "\t5 & 28 & 45\\\\\n",
       "\t6 & 40 & 55\\\\\n",
       "\t7 & 25 & NA\\\\\n",
       "\t8 & 38 & NA\\\\\n",
       "\t9 & 20 & NA\\\\\n",
       "\t10 & 33 & NA\\\\\n",
       "\t11 & 33 & NA\\\\\n",
       "\t12 & 25 & NA\\\\\n",
       "\t13 & 20 & NA\\\\\n",
       "\t14 & 25 & NA\\\\\n",
       "\t15 & 20 & NA\\\\\n",
       "\t16 & 26 & NA\\\\\n",
       "\t17 & 30 & NA\\\\\n",
       "\t18 & 33 & NA\\\\\n",
       "\t19 & 25 & NA\\\\\n",
       "\\end{tabular}\n"
      ],
      "text/markdown": [
       "\n",
       "A data.frame: 19 × 2\n",
       "\n",
       "| <!--/--> | Before &lt;int&gt; | After &lt;int&gt; |\n",
       "|---|---|---|\n",
       "| 1 | 25 | 30 |\n",
       "| 2 | 33 | 38 |\n",
       "| 3 | 20 | 38 |\n",
       "| 4 | 33 | 40 |\n",
       "| 5 | 28 | 45 |\n",
       "| 6 | 40 | 55 |\n",
       "| 7 | 25 | NA |\n",
       "| 8 | 38 | NA |\n",
       "| 9 | 20 | NA |\n",
       "| 10 | 33 | NA |\n",
       "| 11 | 33 | NA |\n",
       "| 12 | 25 | NA |\n",
       "| 13 | 20 | NA |\n",
       "| 14 | 25 | NA |\n",
       "| 15 | 20 | NA |\n",
       "| 16 | 26 | NA |\n",
       "| 17 | 30 | NA |\n",
       "| 18 | 33 | NA |\n",
       "| 19 | 25 | NA |\n",
       "\n"
      ],
      "text/plain": [
       "   Before After\n",
       "1  25     30   \n",
       "2  33     38   \n",
       "3  20     38   \n",
       "4  33     40   \n",
       "5  28     45   \n",
       "6  40     55   \n",
       "7  25     NA   \n",
       "8  38     NA   \n",
       "9  20     NA   \n",
       "10 33     NA   \n",
       "11 33     NA   \n",
       "12 25     NA   \n",
       "13 20     NA   \n",
       "14 25     NA   \n",
       "15 20     NA   \n",
       "16 26     NA   \n",
       "17 30     NA   \n",
       "18 33     NA   \n",
       "19 25     NA   "
      ]
     },
     "metadata": {},
     "output_type": "display_data"
    }
   ],
   "source": [
    "feature <- read.csv('New feature.csv')\n",
    "\n",
    "head(feature, 20)"
   ]
  },
  {
   "cell_type": "code",
   "execution_count": 57,
   "id": "4079af1e-1a43-4997-b062-2ab7932420ac",
   "metadata": {},
   "outputs": [
    {
     "data": {
      "text/plain": [
       "\n",
       "\t2-sample Permutation Test\n",
       "\n",
       "data:  feature$Before and feature$After\n",
       "T = 532, p-value = 0.0004912\n",
       "alternative hypothesis: true mu is less than 0\n"
      ]
     },
     "metadata": {},
     "output_type": "display_data"
    }
   ],
   "source": [
    "perm.test(feature$Before,feature$After, paired =FALSE, alternative=\"less\", mu=0,exact=TRUE)"
   ]
  },
  {
   "cell_type": "markdown",
   "id": "f2082ab0-9907-495d-8721-fbeaa8ab90d2",
   "metadata": {},
   "source": [
    "Can we conclude that there is a positive change in the mean number of active daily players after implementing the new feature? YES!\n",
    "\n",
    "The p-value is far less than 0.05, indicating a difference in the mean between **Before** and **After**. Sounds like players enjoyed this new feature!"
   ]
  },
  {
   "cell_type": "markdown",
   "id": "7d2a6522-81a1-4666-899f-cff39ff9b247",
   "metadata": {},
   "source": [
    "## Bootstrapping Applications"
   ]
  },
  {
   "cell_type": "markdown",
   "id": "75ee8c36-872f-40d4-945c-edc6ce1cd220",
   "metadata": {},
   "source": [
    "In *Player hours.csv*, the online hours of 10 players are recorded in **Hours**.\n",
    "\n",
    "Why is the sample size so small? Well, the beta of this new game only opens to a small number of players! \n",
    "\n",
    "Our parameter of interest is the median player's online hours--Is the median online hours more than 1.5 hours? Considering such a small sample size, bootstrapping might be a suitable test to figure out the question."
   ]
  },
  {
   "cell_type": "code",
   "execution_count": 58,
   "id": "3b79e141-f71f-4e73-beb3-ddead86abdd0",
   "metadata": {},
   "outputs": [
    {
     "data": {
      "text/html": [
       "<table class=\"dataframe\">\n",
       "<caption>A data.frame: 10 × 1</caption>\n",
       "<thead>\n",
       "\t<tr><th scope=col>Hours</th></tr>\n",
       "\t<tr><th scope=col>&lt;dbl&gt;</th></tr>\n",
       "</thead>\n",
       "<tbody>\n",
       "\t<tr><td>1.0</td></tr>\n",
       "\t<tr><td>1.5</td></tr>\n",
       "\t<tr><td>2.2</td></tr>\n",
       "\t<tr><td>3.0</td></tr>\n",
       "\t<tr><td>2.6</td></tr>\n",
       "\t<tr><td>2.8</td></tr>\n",
       "\t<tr><td>4.0</td></tr>\n",
       "\t<tr><td>0.5</td></tr>\n",
       "\t<tr><td>1.2</td></tr>\n",
       "\t<tr><td>2.2</td></tr>\n",
       "</tbody>\n",
       "</table>\n"
      ],
      "text/latex": [
       "A data.frame: 10 × 1\n",
       "\\begin{tabular}{l}\n",
       " Hours\\\\\n",
       " <dbl>\\\\\n",
       "\\hline\n",
       "\t 1.0\\\\\n",
       "\t 1.5\\\\\n",
       "\t 2.2\\\\\n",
       "\t 3.0\\\\\n",
       "\t 2.6\\\\\n",
       "\t 2.8\\\\\n",
       "\t 4.0\\\\\n",
       "\t 0.5\\\\\n",
       "\t 1.2\\\\\n",
       "\t 2.2\\\\\n",
       "\\end{tabular}\n"
      ],
      "text/markdown": [
       "\n",
       "A data.frame: 10 × 1\n",
       "\n",
       "| Hours &lt;dbl&gt; |\n",
       "|---|\n",
       "| 1.0 |\n",
       "| 1.5 |\n",
       "| 2.2 |\n",
       "| 3.0 |\n",
       "| 2.6 |\n",
       "| 2.8 |\n",
       "| 4.0 |\n",
       "| 0.5 |\n",
       "| 1.2 |\n",
       "| 2.2 |\n",
       "\n"
      ],
      "text/plain": [
       "   Hours\n",
       "1  1.0  \n",
       "2  1.5  \n",
       "3  2.2  \n",
       "4  3.0  \n",
       "5  2.6  \n",
       "6  2.8  \n",
       "7  4.0  \n",
       "8  0.5  \n",
       "9  1.2  \n",
       "10 2.2  "
      ]
     },
     "metadata": {},
     "output_type": "display_data"
    }
   ],
   "source": [
    "player <- read.csv('player hours.csv')\n",
    "player"
   ]
  },
  {
   "cell_type": "code",
   "execution_count": 59,
   "id": "71d9d85d-c43d-4719-ada9-bdbca72b80fc",
   "metadata": {},
   "outputs": [
    {
     "name": "stdout",
     "output_type": "stream",
     "text": [
      "           sd mean median\n",
      "[1,] 1.060398  2.1    2.2\n"
     ]
    }
   ],
   "source": [
    "sd <- sd(player$Hours)\n",
    "mean <- mean(player$Hours)\n",
    "median <- median(player$Hours)\n",
    "\n",
    "print(cbind(sd,mean,median))"
   ]
  },
  {
   "cell_type": "code",
   "execution_count": 60,
   "id": "f5d9a20d-5484-40dd-b80a-3c35b9dd0500",
   "metadata": {},
   "outputs": [],
   "source": [
    "library(bootstrap)"
   ]
  },
  {
   "cell_type": "code",
   "execution_count": 61,
   "id": "88804a4c-b09b-45b5-946a-d9c55a3471f9",
   "metadata": {},
   "outputs": [
    {
     "data": {
      "text/html": [
       "2.127"
      ],
      "text/latex": [
       "2.127"
      ],
      "text/markdown": [
       "2.127"
      ],
      "text/plain": [
       "[1] 2.127"
      ]
     },
     "metadata": {},
     "output_type": "display_data"
    },
    {
     "data": {
      "image/png": "[encoded data removed]",
      "text/plain": [
       "Plot with title “Histogram of theta*”"
      ]
     },
     "metadata": {
      "image/png": {
       "height": 420,
       "width": 420
      }
     },
     "output_type": "display_data"
    }
   ],
   "source": [
    "theta_med <- function(x){median(x)} \n",
    "boot_med <- bootstrap(player$Hours, 400, theta_med)\n",
    "mean(boot_med$thetastar)\n",
    "hist(boot_med$thetastar, main=\"Histogram of theta*\")"
   ]
  },
  {
   "cell_type": "code",
   "execution_count": 62,
   "id": "ac061768-740b-40d2-8558-70e4fa359848",
   "metadata": {},
   "outputs": [
    {
     "data": {
      "text/html": [
       "0.70125"
      ],
      "text/latex": [
       "0.70125"
      ],
      "text/markdown": [
       "0.70125"
      ],
      "text/plain": [
       "[1] 0.70125"
      ]
     },
     "metadata": {},
     "output_type": "display_data"
    },
    {
     "data": {
      "image/png": "[encoded data removed]",
      "text/plain": [
       "Plot with title “Histogram of theta*”"
      ]
     },
     "metadata": {
      "image/png": {
       "height": 420,
       "width": 420
      }
     },
     "output_type": "display_data"
    }
   ],
   "source": [
    "theta_min <- function(x){min(x)} \n",
    "boot_min <- bootstrap(player$Hours, 400, theta_min)\n",
    "mean(boot_min$thetastar)\n",
    "hist(boot_min$thetastar, main=\"Histogram of theta*\")"
   ]
  },
  {
   "cell_type": "markdown",
   "id": "bc7df328-21e4-4424-8d3e-1c200ff58afb",
   "metadata": {},
   "source": [
    "Now we can test if the 95% confidence interval for median player online hours convers 1.5:"
   ]
  },
  {
   "cell_type": "code",
   "execution_count": 63,
   "id": "5d06dc8e-a14d-4c27-ad59-b007e562301c",
   "metadata": {},
   "outputs": [
    {
     "name": "stdout",
     "output_type": "stream",
     "text": [
      "     lb_med ub_med\n",
      "[1,]    1.2    2.8\n"
     ]
    }
   ],
   "source": [
    "boot_medsort <- sort(boot_med$thetastar)\n",
    "lb_med <- boot_medsort[400*0.025] # lower bound of 95% CI\n",
    "ub_med <- boot_medsort[400*0.975] # upper bound of 95% CI\n",
    "\n",
    "print(cbind(lb_med,ub_med))"
   ]
  },
  {
   "cell_type": "markdown",
   "id": "a949e540-31ea-4ec7-bc6c-dd6c378cd628",
   "metadata": {},
   "source": [
    "Unfortunately, the lower bound of the bootstrap confidence interval is 1.1 hours... :( We don't have enough evidence that the median online hours is more than 1.5 hours.\n",
    "\n",
    "What about the minimum players online hours? Is it at least 30 minutes?"
   ]
  },
  {
   "cell_type": "code",
   "execution_count": 64,
   "id": "2aec4013-a7a9-4054-98a5-c5cccb546cd8",
   "metadata": {},
   "outputs": [
    {
     "name": "stdout",
     "output_type": "stream",
     "text": [
      "     lb_min ub_min\n",
      "[1,]    0.5    1.5\n"
     ]
    }
   ],
   "source": [
    "boot_minsort <- sort(boot_min$thetastar)\n",
    "lb_min <- boot_minsort[400*0.025]\n",
    "ub_min <- boot_minsort[400*0.975]\n",
    "\n",
    "print(cbind(lb_min,ub_min))"
   ]
  },
  {
   "cell_type": "markdown",
   "id": "0cd77008-5405-4b42-8ec1-2971e39001b1",
   "metadata": {},
   "source": [
    "The bootstrap confidence interval indicates that the minimum player online hours is not likely to fall under 0.5 hour! We do have some evidence that players stay online for at least 30 minutes."
   ]
  }
 ],
 "metadata": {
  "kernelspec": {
   "display_name": "R",
   "language": "R",
   "name": "ir"
  },
  "language_info": {
   "codemirror_mode": "r",
   "file_extension": ".r",
   "mimetype": "text/x-r-source",
   "name": "R",
   "pygments_lexer": "r",
   "version": "4.3.1"
  }
 },
 "nbformat": 4,
 "nbformat_minor": 5
}
